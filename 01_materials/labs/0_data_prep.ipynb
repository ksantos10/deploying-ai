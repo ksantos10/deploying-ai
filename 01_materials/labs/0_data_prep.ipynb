{
 "cells": [
  {
   "cell_type": "markdown",
   "id": "1e8502c4",
   "metadata": {},
   "source": [
    "# Data Preparation\n",
    "\n",
    "Data found in the data set [18,393 Pitchfork articles on Kaggle.com](https://www.kaggle.com/datasets/nolanbconaway/pitchfork-data) can be converted to JSON line files using the code below.\n",
    "\n",
    "Note that it requires the library `sqlite3` which is not included in the current package dependency definitions. You will need to install this library in order to run this code."
   ]
  },
  {
   "cell_type": "code",
   "execution_count": 1,
   "id": "c55228de",
   "metadata": {},
   "outputs": [],
   "source": [
    "import sqlite3\n",
    "import json\n",
    "import os\n",
    "\n",
    "documents_path = '../../05_src/documents/'\n",
    "sqlite_file = os.path.join(documents_path, 'database.sqlite')\n"
   ]
  },
  {
   "cell_type": "code",
   "execution_count": 2,
   "id": "efb7cfed",
   "metadata": {},
   "outputs": [],
   "source": [
    "def sanitize_string(s):\n",
    "    if isinstance(s, str):\n",
    "        s = s.encode('utf-8', errors='ignore').decode('utf-8', errors='ignore')\n",
    "        s = s.encode('latin1', errors='ignore').decode('utf-8', errors='ignore')\n",
    "        s = s.replace('\\u0720', ' ')\n",
    "        s = s.replace(\"\\n\", \" \")\n",
    "    return s"
   ]
  },
  {
   "cell_type": "code",
   "execution_count": 3,
   "id": "66b909f9",
   "metadata": {},
   "outputs": [],
   "source": [
    "def get_data_from_sqlite(db_path, table):\n",
    "    with sqlite3.connect(db_path) as conn:\n",
    "        cursor = conn.cursor()\n",
    "        cursor.execute(f\"SELECT * FROM {table}\")\n",
    "        rows = cursor.fetchall()\n",
    "        columns = [description[0] for description in cursor.description]\n",
    "        data = [dict(zip(columns, row)) for row in rows]\n",
    "        data = [ {k: sanitize_string(v) for k, v in record.items()} for record in data ]\n",
    "    return data"
   ]
  },
  {
   "cell_type": "code",
   "execution_count": 4,
   "id": "ec899cfc",
   "metadata": {},
   "outputs": [],
   "source": [
    "def create_jsonl_from_table(db_path, table):\n",
    "    data = get_data_from_sqlite(db_path, table)\n",
    "    output_file = os.path.join(documents_path, f'pitchfork_{table}.jsonl') \n",
    "    with open(output_file, 'w') as f:\n",
    "        for record in data:    \n",
    "            json_line = json.dumps(record)\n",
    "            f.write(json_line + '\\n')"
   ]
  },
  {
   "cell_type": "code",
   "execution_count": 5,
   "id": "e1e8e2d1",
   "metadata": {},
   "outputs": [
    {
     "ename": "OperationalError",
     "evalue": "no such table: artists",
     "output_type": "error",
     "traceback": [
      "\u001b[31m---------------------------------------------------------------------------\u001b[39m",
      "\u001b[31mOperationalError\u001b[39m                          Traceback (most recent call last)",
      "\u001b[36mCell\u001b[39m\u001b[36m \u001b[39m\u001b[32mIn[5]\u001b[39m\u001b[32m, line 4\u001b[39m\n\u001b[32m      1\u001b[39m table_list = [\u001b[33m'\u001b[39m\u001b[33martists\u001b[39m\u001b[33m'\u001b[39m, \u001b[33m'\u001b[39m\u001b[33mcontent\u001b[39m\u001b[33m'\u001b[39m, \u001b[33m'\u001b[39m\u001b[33mgenres\u001b[39m\u001b[33m'\u001b[39m, \u001b[33m'\u001b[39m\u001b[33mlabels\u001b[39m\u001b[33m'\u001b[39m, \u001b[33m'\u001b[39m\u001b[33mreviews\u001b[39m\u001b[33m'\u001b[39m, \u001b[33m'\u001b[39m\u001b[33myears\u001b[39m\u001b[33m'\u001b[39m]\n\u001b[32m      3\u001b[39m \u001b[38;5;28;01mfor\u001b[39;00m table \u001b[38;5;129;01min\u001b[39;00m table_list:\n\u001b[32m----> \u001b[39m\u001b[32m4\u001b[39m     \u001b[43mcreate_jsonl_from_table\u001b[49m\u001b[43m(\u001b[49m\u001b[43msqlite_file\u001b[49m\u001b[43m,\u001b[49m\u001b[43m \u001b[49m\u001b[43mtable\u001b[49m\u001b[43m)\u001b[49m\n",
      "\u001b[36mCell\u001b[39m\u001b[36m \u001b[39m\u001b[32mIn[4]\u001b[39m\u001b[32m, line 2\u001b[39m, in \u001b[36mcreate_jsonl_from_table\u001b[39m\u001b[34m(db_path, table)\u001b[39m\n\u001b[32m      1\u001b[39m \u001b[38;5;28;01mdef\u001b[39;00m\u001b[38;5;250m \u001b[39m\u001b[34mcreate_jsonl_from_table\u001b[39m(db_path, table):\n\u001b[32m----> \u001b[39m\u001b[32m2\u001b[39m     data = \u001b[43mget_data_from_sqlite\u001b[49m\u001b[43m(\u001b[49m\u001b[43mdb_path\u001b[49m\u001b[43m,\u001b[49m\u001b[43m \u001b[49m\u001b[43mtable\u001b[49m\u001b[43m)\u001b[49m\n\u001b[32m      3\u001b[39m     output_file = os.path.join(documents_path, \u001b[33mf\u001b[39m\u001b[33m'\u001b[39m\u001b[33mpitchfork_\u001b[39m\u001b[38;5;132;01m{\u001b[39;00mtable\u001b[38;5;132;01m}\u001b[39;00m\u001b[33m.jsonl\u001b[39m\u001b[33m'\u001b[39m) \n\u001b[32m      4\u001b[39m     \u001b[38;5;28;01mwith\u001b[39;00m \u001b[38;5;28mopen\u001b[39m(output_file, \u001b[33m'\u001b[39m\u001b[33mw\u001b[39m\u001b[33m'\u001b[39m) \u001b[38;5;28;01mas\u001b[39;00m f:\n",
      "\u001b[36mCell\u001b[39m\u001b[36m \u001b[39m\u001b[32mIn[3]\u001b[39m\u001b[32m, line 4\u001b[39m, in \u001b[36mget_data_from_sqlite\u001b[39m\u001b[34m(db_path, table)\u001b[39m\n\u001b[32m      2\u001b[39m \u001b[38;5;28;01mwith\u001b[39;00m sqlite3.connect(db_path) \u001b[38;5;28;01mas\u001b[39;00m conn:\n\u001b[32m      3\u001b[39m     cursor = conn.cursor()\n\u001b[32m----> \u001b[39m\u001b[32m4\u001b[39m     \u001b[43mcursor\u001b[49m\u001b[43m.\u001b[49m\u001b[43mexecute\u001b[49m\u001b[43m(\u001b[49m\u001b[33;43mf\u001b[39;49m\u001b[33;43m\"\u001b[39;49m\u001b[33;43mSELECT * FROM \u001b[39;49m\u001b[38;5;132;43;01m{\u001b[39;49;00m\u001b[43mtable\u001b[49m\u001b[38;5;132;43;01m}\u001b[39;49;00m\u001b[33;43m\"\u001b[39;49m\u001b[43m)\u001b[49m\n\u001b[32m      5\u001b[39m     rows = cursor.fetchall()\n\u001b[32m      6\u001b[39m     columns = [description[\u001b[32m0\u001b[39m] \u001b[38;5;28;01mfor\u001b[39;00m description \u001b[38;5;129;01min\u001b[39;00m cursor.description]\n",
      "\u001b[31mOperationalError\u001b[39m: no such table: artists"
     ]
    }
   ],
   "source": [
    "table_list = ['artists', 'content', 'genres', 'labels', 'reviews', 'years']\n",
    "\n",
    "for table in table_list:\n",
    "    create_jsonl_from_table(sqlite_file, table)"
   ]
  }
 ],
 "metadata": {
  "kernelspec": {
   "display_name": "deploying-ai-env",
   "language": "python",
   "name": "python3"
  },
  "language_info": {
   "codemirror_mode": {
    "name": "ipython",
    "version": 3
   },
   "file_extension": ".py",
   "mimetype": "text/x-python",
   "name": "python",
   "nbconvert_exporter": "python",
   "pygments_lexer": "ipython3",
   "version": "3.12.12"
  }
 },
 "nbformat": 4,
 "nbformat_minor": 5
}
